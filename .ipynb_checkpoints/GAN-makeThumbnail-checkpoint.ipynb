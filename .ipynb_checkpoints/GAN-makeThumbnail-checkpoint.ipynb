{
 "cells": [
  {
   "cell_type": "markdown",
   "id": "280dc2e9",
   "metadata": {},
   "source": [
    "<h1>画像を整形</h1>"
   ]
  },
  {
   "cell_type": "code",
   "execution_count": 16,
   "id": "eda2724f",
   "metadata": {},
   "outputs": [],
   "source": [
    "import os\n",
    "\n",
    "import cv2\n",
    "import numpy as np"
   ]
  },
  {
   "cell_type": "code",
   "execution_count": 17,
   "id": "0bd36438",
   "metadata": {},
   "outputs": [],
   "source": [
    "LD = os.listdir('image')"
   ]
  },
  {
   "cell_type": "code",
   "execution_count": 34,
   "id": "b34198e3",
   "metadata": {},
   "outputs": [],
   "source": [
    "#画像を全て128*128の正方形にする\n",
    "for L in LD:\n",
    "    target = os.path.join('image',L)\n",
    "    img = cv2.imread(target)\n",
    "    sq_img = cv2.resize(img,(128,128))\n",
    "    sq_path = os.path.join('SqureImage',L)\n",
    "    cv2.imwrite(sq_path,sq_img)"
   ]
  },
  {
   "cell_type": "markdown",
   "id": "aea00d12",
   "metadata": {},
   "source": [
    "<h1>GAN</h1>"
   ]
  },
  {
   "cell_type": "code",
   "execution_count": 18,
   "id": "962ce704",
   "metadata": {},
   "outputs": [],
   "source": [
    "import os\n",
    "import pickle\n",
    "\n",
    "import numpy as np\n",
    "import torch\n",
    "import torch.nn.functional as F\n",
    "import torchvision\n",
    "from matplotlib import pyplot as plt\n",
    "from PIL import Image\n",
    "from torch import nn\n",
    "from torch.utils.data import DataLoader\n",
    "from torchinfo import summary\n",
    "from tqdm import tqdm"
   ]
  },
  {
   "cell_type": "code",
   "execution_count": 19,
   "id": "aba9ab61",
   "metadata": {},
   "outputs": [],
   "source": [
    "def make_dataset(root):\n",
    "    paths = os.listdir(root)\n",
    "    imgs = []\n",
    "    for path in paths:\n",
    "        img_path = os.path.join(root, path)\n",
    "        img = Image.open(img_path)\n",
    "        img = torchvision.transforms.functional.to_tensor(img)\n",
    "        label = 0\n",
    "        imgs.append((img, label))\n",
    "    return imgs\n"
   ]
  },
  {
   "cell_type": "code",
   "execution_count": 21,
   "id": "9581da8d",
   "metadata": {},
   "outputs": [],
   "source": [
    "z_dim = 20\n",
    "epoch = 10000\n",
    "batch_size = 32"
   ]
  },
  {
   "cell_type": "code",
   "execution_count": 22,
   "id": "dda160c6",
   "metadata": {},
   "outputs": [],
   "source": [
    "pickle.dump(make_dataset('SqureImage'),open('train_data.pickle','wb'))\n",
    "train_data = pickle.load(open('train_data.pickle', 'rb'))\n",
    "train_loader = DataLoader(train_data, batch_size, True)"
   ]
  },
  {
   "cell_type": "code",
   "execution_count": 23,
   "id": "a32aab4a",
   "metadata": {},
   "outputs": [],
   "source": [
    "class Generator(nn.Module):\n",
    "\n",
    "    def __init__(self):\n",
    "        super().__init__()\n",
    "        self.tran1 = nn.ConvTranspose2d(z_dim, 256, 4, 4)\n",
    "        self.tran2 = nn.ConvTranspose2d(256, 256, 4, 4)\n",
    "        self.tran3 = nn.ConvTranspose2d(256, 3, 8, 8)\n",
    "\n",
    "    def forward(self, x):\n",
    "        x = self.tran1(x)\n",
    "        x = torch.relu(x)\n",
    "        x = nn.BatchNorm2d(256).to('cpu')(x)\n",
    "        x = self.tran2(x)\n",
    "        x = torch.relu(x)\n",
    "        x = nn.BatchNorm2d(256).to('cpu')(x)\n",
    "        x = self.tran3(x)\n",
    "        x = torch.sigmoid(x)\n",
    "        return x\n"
   ]
  },
  {
   "cell_type": "code",
   "execution_count": 24,
   "id": "4f9a5623",
   "metadata": {},
   "outputs": [],
   "source": [
    "class Discriminator(nn.Module):\n",
    "\n",
    "    def __init__(self):\n",
    "        super().__init__()\n",
    "        self.conv1 = nn.Conv2d(3, 64, 4, 4, 1)\n",
    "        self.conv2 = nn.Conv2d(64, 128, 4, 4, 1)\n",
    "        self.conv3 = nn.Conv2d(128, 256, 4, 4, 1)\n",
    "        self.conv4 = nn.Conv2d(256, 1, 4, 4, 1)\n",
    "\n",
    "    def forward(self, x):\n",
    "        x = self.conv1(x)\n",
    "        x = nn.BatchNorm2d(64).to('cpu')(x)\n",
    "        x = nn.LeakyReLU(0.01, inplace=True)(x)\n",
    "        x = self.conv2(x)\n",
    "        x = nn.BatchNorm2d(128).to('cpu')(x)\n",
    "        x = nn.LeakyReLU(0.01, inplace=True)(x)\n",
    "        x = self.conv3(x)\n",
    "        x = nn.BatchNorm2d(256).to('cpu')(x)\n",
    "        x = nn.LeakyReLU(0.01, inplace=True)(x)\n",
    "        x = self.conv4(x)\n",
    "        x = torch.flatten(x, 1)\n",
    "        x = torch.sigmoid(x)\n",
    "        return x\n"
   ]
  },
  {
   "cell_type": "code",
   "execution_count": 25,
   "id": "1ff6adba",
   "metadata": {},
   "outputs": [],
   "source": [
    "G = Generator()\n",
    "D = Discriminator()\n",
    "G_opt = torch.optim.Adam(G.parameters(), 0.0005, [0.0, 0.9])\n",
    "D_opt = torch.optim.Adam(D.parameters(), 0.0005, [0.0, 0.9])"
   ]
  },
  {
   "cell_type": "code",
   "execution_count": 26,
   "id": "bcb60596",
   "metadata": {
    "scrolled": true
   },
   "outputs": [
    {
     "data": {
      "text/plain": [
       "==========================================================================================\n",
       "Layer (type:depth-idx)                   Output Shape              Param #\n",
       "==========================================================================================\n",
       "Discriminator                            --                        --\n",
       "├─Conv2d: 1-1                            [1, 64, 32, 32]           3,136\n",
       "├─Conv2d: 1-2                            [1, 128, 8, 8]            131,200\n",
       "├─Conv2d: 1-3                            [1, 256, 2, 2]            524,544\n",
       "├─Conv2d: 1-4                            [1, 1, 1, 1]              4,097\n",
       "==========================================================================================\n",
       "Total params: 662,977\n",
       "Trainable params: 662,977\n",
       "Non-trainable params: 0\n",
       "Total mult-adds (M): 13.71\n",
       "==========================================================================================\n",
       "Input size (MB): 0.20\n",
       "Forward/backward pass size (MB): 0.60\n",
       "Params size (MB): 2.65\n",
       "Estimated Total Size (MB): 3.45\n",
       "=========================================================================================="
      ]
     },
     "execution_count": 26,
     "metadata": {},
     "output_type": "execute_result"
    }
   ],
   "source": [
    "sample = torch.rand((1,z_dim,1,1))\n",
    "summary(G,input_data=sample)\n",
    "sample = torch.rand((1,3,128,128))\n",
    "summary(D,input_data=sample)"
   ]
  },
  {
   "cell_type": "code",
   "execution_count": 27,
   "id": "583e53b4",
   "metadata": {},
   "outputs": [
    {
     "data": {
      "text/plain": [
       "Discriminator(\n",
       "  (conv1): Conv2d(3, 64, kernel_size=(4, 4), stride=(4, 4), padding=(1, 1))\n",
       "  (conv2): Conv2d(64, 128, kernel_size=(4, 4), stride=(4, 4), padding=(1, 1))\n",
       "  (conv3): Conv2d(128, 256, kernel_size=(4, 4), stride=(4, 4), padding=(1, 1))\n",
       "  (conv4): Conv2d(256, 1, kernel_size=(4, 4), stride=(4, 4), padding=(1, 1))\n",
       ")"
      ]
     },
     "execution_count": 27,
     "metadata": {},
     "output_type": "execute_result"
    }
   ],
   "source": [
    "G.train()\n",
    "D.train()\n",
    "G.to('cpu')\n",
    "D.to('cpu')"
   ]
  },
  {
   "cell_type": "code",
   "execution_count": 28,
   "id": "b7fa88f5",
   "metadata": {},
   "outputs": [],
   "source": [
    "G_losses = []\n",
    "D_losses = []\n",
    "\n",
    "criterion = nn.BCELoss()\n",
    "\n",
    "cnt = 0"
   ]
  },
  {
   "cell_type": "code",
   "execution_count": null,
   "id": "5a24238e",
   "metadata": {
    "scrolled": true
   },
   "outputs": [
    {
     "name": "stderr",
     "output_type": "stream",
     "text": [
      "\r",
      "  0%|                                                                                        | 0/10000 [00:00<?, ?it/s]"
     ]
    },
    {
     "name": "stdout",
     "output_type": "stream",
     "text": [
      "\n",
      "G_loss 19.514551162719727\n",
      "D_Loss 0.0\n",
      "(128, 128, 3)\n",
      "(128, 128, 3)\n",
      "(128, 128, 3)\n",
      "(128, 128, 3)\n",
      "(128, 128, 3)\n",
      "(128, 128, 3)\n",
      "(128, 128, 3)\n",
      "(128, 128, 3)\n",
      "(128, 128, 3)\n",
      "(128, 128, 3)\n",
      "(128, 128, 3)\n",
      "(128, 128, 3)\n",
      "(128, 128, 3)\n",
      "(128, 128, 3)\n",
      "(128, 128, 3)\n",
      "(128, 128, 3)\n",
      "(128, 128, 3)\n",
      "(128, 128, 3)\n",
      "(128, 128, 3)\n",
      "(128, 128, 3)\n",
      "(128, 128, 3)\n",
      "(128, 128, 3)\n",
      "(128, 128, 3)\n",
      "(128, 128, 3)\n",
      "(128, 128, 3)\n"
     ]
    },
    {
     "name": "stderr",
     "output_type": "stream",
     "text": [
      "  0%|▍                                                                           | 50/10000 [08:22<27:27:56,  9.94s/it]"
     ]
    },
    {
     "name": "stdout",
     "output_type": "stream",
     "text": [
      "\n",
      "G_loss 23.933246612548828\n",
      "D_Loss 0.0\n",
      "(128, 128, 3)\n",
      "(128, 128, 3)\n",
      "(128, 128, 3)\n",
      "(128, 128, 3)\n",
      "(128, 128, 3)\n",
      "(128, 128, 3)\n",
      "(128, 128, 3)\n",
      "(128, 128, 3)\n",
      "(128, 128, 3)\n",
      "(128, 128, 3)\n",
      "(128, 128, 3)\n",
      "(128, 128, 3)\n",
      "(128, 128, 3)\n",
      "(128, 128, 3)\n",
      "(128, 128, 3)\n",
      "(128, 128, 3)\n",
      "(128, 128, 3)\n",
      "(128, 128, 3)\n",
      "(128, 128, 3)\n",
      "(128, 128, 3)\n",
      "(128, 128, 3)\n",
      "(128, 128, 3)\n",
      "(128, 128, 3)\n",
      "(128, 128, 3)\n",
      "(128, 128, 3)\n"
     ]
    },
    {
     "name": "stderr",
     "output_type": "stream",
     "text": [
      "  1%|▌                                                                           | 69/10000 [11:49<29:55:38, 10.85s/it]"
     ]
    }
   ],
   "source": [
    "for e in tqdm(range(epoch)):\n",
    "    final_loss = 0\n",
    "    for data in train_loader:\n",
    "        x = data[0].to('cpu')\n",
    "        t = data[1].to('cpu')\n",
    "\n",
    "        # G_training\n",
    "        noise = torch.randn((batch_size, z_dim, 1, 1)).to('cpu')\n",
    "        fake_images = G(noise)\n",
    "        fake_disc = D(fake_images)\n",
    "        loss_fake_is_real = criterion(fake_disc, torch.ones_like(fake_disc))\n",
    "        G_loss = loss_fake_is_real\n",
    "\n",
    "        G_opt.zero_grad()\n",
    "        G_loss.backward()\n",
    "        G_opt.step()\n",
    "\n",
    "        # D_training\n",
    "        noise = torch.randn((batch_size, z_dim, 1, 1)).to('cpu')\n",
    "        fake_images = G(noise)\n",
    "        real_disc = D(x)\n",
    "        fake_disc = D(fake_images)\n",
    "        loss_fake_is_fake = criterion(fake_disc, torch.zeros_like(fake_disc))\n",
    "        loss_real_is_real = criterion(real_disc, torch.ones_like(real_disc))\n",
    "        D_loss = loss_fake_is_fake + loss_real_is_real\n",
    "\n",
    "        D_opt.zero_grad()\n",
    "        D_loss.backward()\n",
    "        D_opt.step()\n",
    "\n",
    "        G_losses.append(G_loss.item())\n",
    "        D_losses.append(D_loss.item())\n",
    "\n",
    "    noise = torch.randn((25, z_dim, 1, 1)).to('cpu')\n",
    "\n",
    "    if e%50 != 0:\n",
    "        continue\n",
    "\n",
    "    print(\"\")\n",
    "    print(\"G_loss\", G_losses[-1])\n",
    "    print(\"D_Loss\", D_losses[-1])\n",
    "    pred = G(noise)\n",
    "    pred = pred.to('cpu').detach().numpy()\n",
    "    fig, ax = plt.subplots(5, 5, figsize=(10, 10))\n",
    "    ar = ax.ravel()\n",
    "    for i in range(5):\n",
    "        for j in range(5):\n",
    "            img = pred[i*5+j]\n",
    "            img = img.transpose(1,2,0)\n",
    "            print(img.shape)\n",
    "            ar[i*5+j].imshow(img)\n",
    "    plt.savefig(f'images/image_at_epoch{e}.png')\n",
    "    torch.save(G.state_dict(),f'models/model_at_epoch{e}.pth')\n",
    "    plt.close()\n",
    "    cnt += 1"
   ]
  },
  {
   "cell_type": "code",
   "execution_count": 51,
   "id": "f828b93d",
   "metadata": {},
   "outputs": [
    {
     "data": {
      "image/png": "[encoded data removed]",
      "text/plain": [
       "<Figure size 432x288 with 1 Axes>"
      ]
     },
     "metadata": {
      "needs_background": "light"
     },
     "output_type": "display_data"
    }
   ],
   "source": [
    "plt.plot(D_losses)\n",
    "plt.plot(G_losses)\n",
    "plt.savefig('loss_graph.png')\n"
   ]
  },
  {
   "cell_type": "code",
   "execution_count": 34,
   "id": "65c7baef",
   "metadata": {},
   "outputs": [],
   "source": [
    "import os\n",
    "\n",
    "import cv2\n",
    "import numpy as np\n",
    "import torch\n",
    "from torch import nn"
   ]
  },
  {
   "cell_type": "code",
   "execution_count": 41,
   "id": "7ae85ef2",
   "metadata": {},
   "outputs": [],
   "source": [
    "class Generator(nn.Module):\n",
    "\n",
    "    def __init__(self):\n",
    "        super().__init__()\n",
    "        self.tran1 = nn.ConvTranspose2d(z_dim, 256, 4, 4)\n",
    "        self.tran2 = nn.ConvTranspose2d(256, 256, 4, 4)\n",
    "        self.tran3 = nn.ConvTranspose2d(256, 3, 8, 8)\n",
    "\n",
    "    def forward(self, x):\n",
    "        x = self.tran1(x)\n",
    "        x = torch.relu(x)\n",
    "        x = nn.BatchNorm2d(256).to('cpu')(x)\n",
    "        x = self.tran2(x)\n",
    "        x = torch.relu(x)\n",
    "        x = nn.BatchNorm2d(256).to('cpu')(x)\n",
    "        x = self.tran3(x)\n",
    "        x = torch.sigmoid(x)\n",
    "        return x\n"
   ]
  },
  {
   "cell_type": "code",
   "execution_count": 45,
   "id": "ce593bc7",
   "metadata": {},
   "outputs": [],
   "source": [
    "z_dim = 20\n",
    "\n",
    "G = Generator().to('cpu')\n",
    "G.load_state_dict(torch.load('models/model_at_epoch7750.pth'))\n",
    "\n",
    "noise = torch.randn((50, z_dim, 1, 1)).to('cpu')\n"
   ]
  },
  {
   "cell_type": "code",
   "execution_count": 49,
   "id": "7b2e77ab",
   "metadata": {},
   "outputs": [
    {
     "name": "stdout",
     "output_type": "stream",
     "text": [
      "(128, 192, 3)\n",
      "(128, 192, 3)\n",
      "(128, 192, 3)\n",
      "(128, 192, 3)\n",
      "(128, 192, 3)\n",
      "(128, 192, 3)\n",
      "(128, 192, 3)\n",
      "(128, 192, 3)\n",
      "(128, 192, 3)\n",
      "(128, 192, 3)\n",
      "(128, 192, 3)\n",
      "(128, 192, 3)\n",
      "(128, 192, 3)\n",
      "(128, 192, 3)\n",
      "(128, 192, 3)\n",
      "(128, 192, 3)\n",
      "(128, 192, 3)\n",
      "(128, 192, 3)\n",
      "(128, 192, 3)\n",
      "(128, 192, 3)\n",
      "(128, 192, 3)\n",
      "(128, 192, 3)\n",
      "(128, 192, 3)\n",
      "(128, 192, 3)\n",
      "(128, 192, 3)\n",
      "(128, 192, 3)\n",
      "(128, 192, 3)\n",
      "(128, 192, 3)\n",
      "(128, 192, 3)\n",
      "(128, 192, 3)\n",
      "(128, 192, 3)\n",
      "(128, 192, 3)\n"
     ]
    }
   ],
   "source": [
    "pred = G(noise)\n",
    "pred = pred.to('cpu').detach().numpy()\n",
    "for i in range(32):\n",
    "    img = pred[i]*255\n",
    "    img = img.transpose(1,2,0)\n",
    "    img = cv2.cvtColor(img,cv2.COLOR_BGR2RGB)\n",
    "    img = cv2.resize(img,((192,128)))\n",
    "    print(img.shape)\n",
    "    cv2.imwrite(f'generate/{i}.png',img)"
   ]
  },
  {
   "cell_type": "code",
   "execution_count": null,
   "id": "bb95d4c9",
   "metadata": {},
   "outputs": [],
   "source": []
  }
 ],
 "metadata": {
  "kernelspec": {
   "display_name": "Python 3 (ipykernel)",
   "language": "python",
   "name": "python3"
  },
  "language_info": {
   "codemirror_mode": {
    "name": "ipython",
    "version": 3
   },
   "file_extension": ".py",
   "mimetype": "text/x-python",
   "name": "python",
   "nbconvert_exporter": "python",
   "pygments_lexer": "ipython3",
   "version": "3.9.6"
  }
 },
 "nbformat": 4,
 "nbformat_minor": 5
}
