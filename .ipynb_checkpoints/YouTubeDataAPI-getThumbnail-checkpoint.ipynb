{
 "cells": [
  {
   "cell_type": "code",
   "execution_count": null,
   "id": "ce17b4e5",
   "metadata": {},
   "outputs": [],
   "source": [
    "<h1>YouTube Data APIでサムネイルを取得</h1>"
   ]
  },
  {
   "cell_type": "code",
   "execution_count": 9,
   "id": "a0e5a8c9",
   "metadata": {},
   "outputs": [],
   "source": [
    "from googleapiclient.discovery import build\n",
    "import urllib.request as req"
   ]
  },
  {
   "cell_type": "code",
   "execution_count": 10,
   "id": "37aac578",
   "metadata": {},
   "outputs": [],
   "source": [
    "DEVELOPER_KEY = '*****'\n",
    "YOUTUBE_API_SERVICE_NAME='youtube'\n",
    "YOUTUBE_API_VERSION='v3'"
   ]
  },
  {
   "cell_type": "code",
   "execution_count": 56,
   "id": "4ce09c56",
   "metadata": {},
   "outputs": [],
   "source": [
    "#さくらみこのチャンネルのID\n",
    "channel_id='UC-hM6YJuNYVAmUWxeIr9FeA'\n",
    "youtuber_name=''\n",
    "#50回以上繰り返す場合、直前の「nextPageToken」をここに代入\n",
    "next_page_token=''"
   ]
  },
  {
   "cell_type": "code",
   "execution_count": 57,
   "id": "3f789bc0",
   "metadata": {},
   "outputs": [],
   "source": [
    "def youtube_search_video():\n",
    "    youtube = build(YOUTUBE_API_SERVICE_NAME,YOUTUBE_API_VERSION,developerKey=DEVELOPER_KEY)\n",
    "    \n",
    "    videos_response = youtube.search().list(\n",
    "        part='snippet',\n",
    "        channelId=channel_id,\n",
    "        maxResults=50,\n",
    "        order='date',\n",
    "        pageToken=next_page_token\n",
    "    ).execute()\n",
    "    \n",
    "    #ここの「nextPageToken」を表示\n",
    "    print(videos_response['nextPageToken'])\n",
    "    thumbnail_list=[]\n",
    "    \n",
    "    for result in videos_response.get('items',[]):\n",
    "        thumbnail_url = result['snippet']['thumbnails']['default']['url']\n",
    "        try:\n",
    "            video_id = result['id']['videoId']\n",
    "        except:\n",
    "            print('エラー発見:' + thumbnail_url)\n",
    "            pass\n",
    "        else:\n",
    "            req.urlretrieve(thumbnail_url,'./image/' + youtuber_name + '/' + result['id']['videoId'] + '.jpg')\n",
    "        print('Saved:' + thumbnail_url)"
   ]
  },
  {
   "cell_type": "code",
   "execution_count": 58,
   "id": "87f54637",
   "metadata": {},
   "outputs": [
    {
     "ename": "KeyError",
     "evalue": "'nextPageToken'",
     "output_type": "error",
     "traceback": [
      "\u001b[1;31m---------------------------------------------------------------------------\u001b[0m",
      "\u001b[1;31mKeyError\u001b[0m                                  Traceback (most recent call last)",
      "\u001b[1;32m~\\AppData\\Local\\Temp/ipykernel_15452/1469197806.py\u001b[0m in \u001b[0;36m<module>\u001b[1;34m\u001b[0m\n\u001b[0;32m      1\u001b[0m \u001b[1;32mif\u001b[0m \u001b[0m__name__\u001b[0m \u001b[1;33m==\u001b[0m \u001b[1;34m\"__main__\"\u001b[0m\u001b[1;33m:\u001b[0m\u001b[1;33m\u001b[0m\u001b[1;33m\u001b[0m\u001b[0m\n\u001b[1;32m----> 2\u001b[1;33m     \u001b[0myoutube_search_video\u001b[0m\u001b[1;33m(\u001b[0m\u001b[1;33m)\u001b[0m\u001b[1;33m\u001b[0m\u001b[1;33m\u001b[0m\u001b[0m\n\u001b[0m",
      "\u001b[1;32m~\\AppData\\Local\\Temp/ipykernel_15452/3209011538.py\u001b[0m in \u001b[0;36myoutube_search_video\u001b[1;34m()\u001b[0m\n\u001b[0;32m     10\u001b[0m     ).execute()\n\u001b[0;32m     11\u001b[0m \u001b[1;33m\u001b[0m\u001b[0m\n\u001b[1;32m---> 12\u001b[1;33m     \u001b[0mprint\u001b[0m\u001b[1;33m(\u001b[0m\u001b[0mvideos_response\u001b[0m\u001b[1;33m[\u001b[0m\u001b[1;34m'nextPageToken'\u001b[0m\u001b[1;33m]\u001b[0m\u001b[1;33m)\u001b[0m\u001b[1;33m\u001b[0m\u001b[1;33m\u001b[0m\u001b[0m\n\u001b[0m\u001b[0;32m     13\u001b[0m     \u001b[0mthumbnail_list\u001b[0m\u001b[1;33m=\u001b[0m\u001b[1;33m[\u001b[0m\u001b[1;33m]\u001b[0m\u001b[1;33m\u001b[0m\u001b[1;33m\u001b[0m\u001b[0m\n\u001b[0;32m     14\u001b[0m \u001b[1;33m\u001b[0m\u001b[0m\n",
      "\u001b[1;31mKeyError\u001b[0m: 'nextPageToken'"
     ]
    }
   ],
   "source": [
    "if __name__ == \"__main__\":\n",
    "    youtube_search_video()"
   ]
  },
  {
   "cell_type": "code",
   "execution_count": null,
   "id": "da18676e",
   "metadata": {},
   "outputs": [],
   "source": []
  }
 ],
 "metadata": {
  "kernelspec": {
   "display_name": "Python 3 (ipykernel)",
   "language": "python",
   "name": "python3"
  },
  "language_info": {
   "codemirror_mode": {
    "name": "ipython",
    "version": 3
   },
   "file_extension": ".py",
   "mimetype": "text/x-python",
   "name": "python",
   "nbconvert_exporter": "python",
   "pygments_lexer": "ipython3",
   "version": "3.9.6"
  }
 },
 "nbformat": 4,
 "nbformat_minor": 5
}
